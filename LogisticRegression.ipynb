{
 "cells": [
  {
   "cell_type": "code",
   "execution_count": 2,
   "metadata": {},
   "outputs": [
    {
     "name": "stdout",
     "output_type": "stream",
     "text": [
      "First guess at a, b  5.0 3.5\n",
      "First loss function is  7.890933746255283\n",
      "Best a,b is  1.2036993070662023 3.310473877247611\n",
      "Best loss function is  2.690376323682816\n"
     ]
    },
    {
     "data": {
      "image/png": "[encoded data removed]",
      "text/plain": [
       "<Figure size 432x288 with 2 Axes>"
      ]
     },
     "metadata": {
      "needs_background": "light"
     },
     "output_type": "display_data"
    }
   ],
   "source": [
    "# Import required python packages for calculating and graphing\n",
    "import autograd.numpy as np\n",
    "from autograd import grad\n",
    "import matplotlib.pyplot as plt\n",
    "\n",
    "# Define a function that takes three inputs and returns the value of the inverse logit, the mean function - the sigmoid function curve.  \n",
    "# For a logistic regression, the dependent variable is binary - it is either 1 or 0.  Logistic regression is looking for probability.\n",
    "def logistic(x,a,b):\n",
    "    return 1/(1.0+np.exp(-a*x+b))\n",
    "\n",
    "# Define a function that takes four inputs (a, b, x and observed y data), generates a y_model function based on a, b, and x and then\n",
    "# returns the sum of the squared residuals i.e. sum of (the y_model data generated minus the observed y data input) squared\n",
    "def loss(x,y_obs,a,b):\n",
    "    y_model = logistic(x,a,b)\n",
    "    return np.sum( (y_model-y_obs)**2 )\n",
    "\n",
    "# Create the array of x data and the corresponding array of observed y data\n",
    "x = np.array( [0.50,0.75,1.00,1.25,1.50,1.75,1.75,2.00,2.25,2.50,2.75,3.00,3.25,3.50,4.00,4.25,4.50,4.75,5.00,5.50] )\n",
    "y_obs = np.array( [0,0,0,0,0,0,1,0,1,0,1,0,1,0,1,1,1,1,1,1] )\n",
    "\n",
    "# Set the values for a and b as constants\n",
    "a,b = 5.0,3.5\n",
    "# Define y_model as the logistic function (defined above) performed on inputs x, a and b (defined above).  Result will be an array of y_model data.\n",
    "y_model = logistic(x,a,b)\n",
    "\n",
    "# Print to screen the constant values for a and b and then print the value of the loss function defined above = which is the sum of the\n",
    "# squared residuals between the predicted y and observed y.  The closer the SSR is to 0, the better model you have.\n",
    "print('First guess at a, b ',a,b)\n",
    "print('First loss function is ',loss(x,y_obs,a,b))\n",
    "\n",
    "# Now let's improve the model.\n",
    "# Define gradient with respect to a value as the partial derivative of the loss function (SSR) with respect to the a value\n",
    "d_by_da = grad(loss,2)\n",
    "# Define gradient with respect to b value as the partial derivative of the loss function (SSR) with respect to the b value\n",
    "d_by_db = grad(loss,3)\n",
    "\n",
    "# Set the learning rate - which is how much to move from the original value to predict the next value\n",
    "learning_rate = 0.001\n",
    "# Set the number of iterations to perform in search of the local minimum; could alternatively set a precision setting here.\n",
    "maximum_number_of_iterations = 50000\n",
    "\n",
    "# Create an empty array\n",
    "ssr = []\n",
    "\n",
    "#Loop through the number of interations specified above (1000) to calculate the best a and b values for the model.\n",
    "for iter in range(maximum_number_of_iterations):\n",
    "    a -= learning_rate*d_by_da(x,y_obs,a,b)  # calculate a new a as the prior a minus the learning rate times the gradiant of the prior a\n",
    "    b -= learning_rate*d_by_db(x,y_obs,a,b)  # calculate b as the prior b minus the learning rate times the gradient of the prior b          \n",
    "    y_model = logistic(x,a,b)                # generate the new predicted y values based on the new a and b\n",
    "    ssr.append(loss(x,y_obs,a,b))            # append to the SSR array, the new value of the loss function based on the new a and b\n",
    "\n",
    "# Print to screen the results of the iteration above - so the new a, b and loss function\n",
    "print('Best a,b is ',a,b)\n",
    "print('Best loss function is ',loss(x,y_obs,a,b))\n",
    "\n",
    "# Put 1 row of 2 plots on the screen.  This is the first of the 2 plots.  It is a scatterplot of the x values with the observed y values. \n",
    "# This data does not fit a linear model.  It appears to be categorical data.\n",
    "# Also put on the same plot the x values with the predicted y values (the model we generated).  This is a probability problem.  The \n",
    "# results are between 0 and 1.\n",
    "plt.subplot(1,2,1)\n",
    "plt.scatter(x,y_obs)\n",
    "plt.plot(x,y_model)\n",
    "\n",
    "# This is the second of the two plots.  Plot the values in the ssr array.  This shows how quickly the SSR was minimized over the 50000 iterations\n",
    "plt.subplot(1,2,2)\n",
    "plt.plot(ssr)\n",
    "\n",
    "# Displays the plots on the screen\n",
    "plt.show()"
   ]
  },
  {
   "cell_type": "code",
   "execution_count": 3,
   "metadata": {},
   "outputs": [
    {
     "data": {
      "text/plain": [
       "[<matplotlib.lines.Line2D at 0x1fa13b8c7b8>]"
      ]
     },
     "execution_count": 3,
     "metadata": {},
     "output_type": "execute_result"
    },
    {
     "data": {
      "image/png": "[encoded data removed]",
      "text/plain": [
       "<Figure size 432x288 with 1 Axes>"
      ]
     },
     "metadata": {
      "needs_background": "light"
     },
     "output_type": "display_data"
    }
   ],
   "source": [
    "# Plot the ssr with log scaling on the y axis\n",
    "plt.semilogy(ssr)"
   ]
  },
  {
   "cell_type": "markdown",
   "metadata": {},
   "source": [
    "# Logistic Regression defined\n",
    "\n",
    "https://www.kdnuggets.com/2019/01/logistic-regression-concise-technical-overview.html"
   ]
  },
  {
   "cell_type": "code",
   "execution_count": null,
   "metadata": {},
   "outputs": [],
   "source": []
  }
 ],
 "metadata": {
  "kernelspec": {
   "display_name": "Python 3",
   "language": "python",
   "name": "python3"
  },
  "language_info": {
   "codemirror_mode": {
    "name": "ipython",
    "version": 3
   },
   "file_extension": ".py",
   "mimetype": "text/x-python",
   "name": "python",
   "nbconvert_exporter": "python",
   "pygments_lexer": "ipython3",
   "version": "3.7.1"
  }
 },
 "nbformat": 4,
 "nbformat_minor": 2
}
