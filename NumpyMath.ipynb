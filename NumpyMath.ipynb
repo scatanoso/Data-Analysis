{
 "cells": [
  {
   "cell_type": "markdown",
   "metadata": {},
   "source": [
    "# Numpy and matrix math\n"
   ]
  },
  {
   "cell_type": "code",
   "execution_count": 6,
   "metadata": {},
   "outputs": [
    {
     "name": "stdout",
     "output_type": "stream",
     "text": [
      "Matrix A is\n",
      "[[1 2 3]\n",
      " [4 5 6]\n",
      " [7 8 9]]\n",
      "\n",
      "Matrix B is\n",
      "[[6 7]\n",
      " [4 5]\n",
      " [8 9]]\n",
      "\n",
      "Matrix C is\n",
      "[[5 2 7]\n",
      " [3 5 1]\n",
      " [7 2 1]]\n",
      "\n",
      "Matrix D is\n",
      "[[5]\n",
      " [8]\n",
      " [3]]\n",
      "\n"
     ]
    }
   ],
   "source": [
    "# Import Numpy and create matrices\n",
    "\n",
    "import numpy as np\n",
    "\n",
    "A = np.array( [ [1,2,3],\n",
    "                [4,5,6],\n",
    "                [7,8,9] ])\n",
    "print(\"Matrix A is\")\n",
    "print(A)\n",
    "print('')\n",
    "\n",
    "B = np.array( [ [6,7],\n",
    "                [4,5],\n",
    "                [8,9] ])\n",
    "print(\"Matrix B is\")\n",
    "print(B)\n",
    "print('')\n",
    "\n",
    "C = np.array( [ [5,2,7],\n",
    "                [3,5,1],\n",
    "                [7,2,1] ])\n",
    "print(\"Matrix C is\")\n",
    "print(C)\n",
    "print('')\n",
    "\n",
    "D = np.array( [ [5],\n",
    "                [8],\n",
    "                [3] ])\n",
    "print(\"Matrix D is\")\n",
    "print(D)\n",
    "print('')"
   ]
  },
  {
   "cell_type": "markdown",
   "metadata": {},
   "source": [
    "# Matrix Addition and Subtraction\n",
    "To add/subtract two matrices, both matrices have to have the same number of rows and columns - so A and C above can be added/subtracted.   In Numpy, adding/subtracting matrices will result in another matrix of the same size.  Use np.add() and np.subtract() to perform the operation."
   ]
  },
  {
   "cell_type": "code",
   "execution_count": 8,
   "metadata": {},
   "outputs": [
    {
     "data": {
      "text/plain": [
       "array([[ 6,  4, 10],\n",
       "       [ 7, 10,  7],\n",
       "       [14, 10, 10]])"
      ]
     },
     "execution_count": 8,
     "metadata": {},
     "output_type": "execute_result"
    }
   ],
   "source": [
    "# Add Matrix A to Matrix C\n",
    "np.add(A,C)"
   ]
  },
  {
   "cell_type": "code",
   "execution_count": 9,
   "metadata": {},
   "outputs": [
    {
     "data": {
      "text/plain": [
       "array([[-4,  0, -4],\n",
       "       [ 1,  0,  5],\n",
       "       [ 0,  6,  8]])"
      ]
     },
     "execution_count": 9,
     "metadata": {},
     "output_type": "execute_result"
    }
   ],
   "source": [
    "# Subtract Matrix C from Matrix A\n",
    "np.subtract(A,C)"
   ]
  },
  {
   "cell_type": "markdown",
   "metadata": {},
   "source": [
    "# Matrix Multiplication\n",
    "Number of columns in the first matrix must equal number of rows in the second matrix. If that condition isn't true, you can't do the multiplication.  Use matmul() to perform the operation."
   ]
  },
  {
   "cell_type": "code",
   "execution_count": 11,
   "metadata": {},
   "outputs": [
    {
     "data": {
      "text/plain": [
       "array([[ 32,  18,  12],\n",
       "       [ 77,  45,  39],\n",
       "       [122,  72,  66]])"
      ]
     },
     "execution_count": 11,
     "metadata": {},
     "output_type": "execute_result"
    }
   ],
   "source": [
    "# Multiply Matrix A by Matrix C\n",
    "np.matmul(A,C)\n"
   ]
  },
  {
   "cell_type": "code",
   "execution_count": 12,
   "metadata": {},
   "outputs": [
    {
     "data": {
      "text/plain": [
       "array([[62],\n",
       "       [58],\n",
       "       [54]])"
      ]
     },
     "execution_count": 12,
     "metadata": {},
     "output_type": "execute_result"
    }
   ],
   "source": [
    "# Multiply Matrix C by Matrix D\n",
    "np.matmul(C,D)"
   ]
  },
  {
   "cell_type": "code",
   "execution_count": null,
   "metadata": {},
   "outputs": [],
   "source": []
  }
 ],
 "metadata": {
  "kernelspec": {
   "display_name": "Python 3",
   "language": "python",
   "name": "python3"
  },
  "language_info": {
   "codemirror_mode": {
    "name": "ipython",
    "version": 3
   },
   "file_extension": ".py",
   "mimetype": "text/x-python",
   "name": "python",
   "nbconvert_exporter": "python",
   "pygments_lexer": "ipython3",
   "version": "3.7.1"
  }
 },
 "nbformat": 4,
 "nbformat_minor": 2
}
