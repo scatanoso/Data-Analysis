{
 "cells": [
  {
   "cell_type": "code",
   "execution_count": 11,
   "metadata": {},
   "outputs": [
    {
     "name": "stdout",
     "output_type": "stream",
     "text": [
      "First guess at a and b are  2.0 1.0\n",
      "First loss function is  500.15\n",
      "Best a and b are  0.9390198950485866 0.47419724324276397\n",
      "Best loss function is  1.3416095642628225\n"
     ]
    },
    {
     "data": {
      "image/png": "[encoded data removed]",
      "text/plain": [
       "<Figure size 432x288 with 2 Axes>"
      ]
     },
     "metadata": {
      "needs_background": "light"
     },
     "output_type": "display_data"
    }
   ],
   "source": [
    "# Import required python packages for calculating and graphing\n",
    "import autograd.numpy as np\n",
    "from autograd import grad\n",
    "import matplotlib.pyplot as plt\n",
    "\n",
    "# Define a function that takes three inputs and returns value in standard linear form i.e. y = mx + b \n",
    "def linear(x,a,b):\n",
    "    return a*x+b\n",
    "\n",
    "# Define a function that takes four inputs (a, b, x and observed y data), generates a linear equation as the y_model function based on a, b, and x and then\n",
    "# returns the sum of the squared residuals i.e. sum of (the y_model data generated minus the observed y data input) squared\n",
    "def loss(x,y_obs,a,b):\n",
    "    y_model = linear(x,a,b)\n",
    "    return np.sum( (y_model-y_obs)**2 )\n",
    "\n",
    "# Create the array of x data and the corresponding array of observed y data\n",
    "x = np.array( [0,1,2,3,4,5,6,7,8,9,10] )\n",
    "y_obs = np.array( [0,1.1,1.9,3.2,3.8,5.1,6.3,6.9,8.5,8.5,10.2] )\n",
    "\n",
    "# Set the values for a and b as constants\n",
    "a,b = 2.0, 1.0\n",
    "\n",
    "# Define y_model as the linear function (defined above) performed on inputs x, a and b (defined above).  Result will be an array of y_model data.\n",
    "y_model = linear(x,a,b)\n",
    "\n",
    "# Print to screen the constant values for a and b and then print the value of the loss function defined above = which is the sum of the\n",
    "# squared residuals between the predicted y and observed y.  The closer the SSR is to 0, the better model you have\n",
    "print('First guess at a and b are ',a,b)\n",
    "print('First loss function is ',loss(x,y_obs,a,b))\n",
    "\n",
    "# Now let's improve the model.\n",
    "# Define gradient with respect to a value as the partial derivative of the loss function (SSR) with respect to the a value\n",
    "d_by_da = grad(loss,2)\n",
    "# Define gradient with respect to b value as the partial derivative of the loss function (SSR) with respect to the b value\n",
    "d_by_db = grad(loss,3)\n",
    "\n",
    "# Set the learning rate - which is how much to move from the original value to predict the next value\n",
    "learning_rate = 0.0001\n",
    "# Set the number of iterations to perform in search of the local minimum; could alternatively set a precision setting here.\n",
    "maximum_number_of_iterations = 1000\n",
    "\n",
    "# Create an empty array\n",
    "ssr = []\n",
    "\n",
    "#Loop through the number of interations specified above (1000) to calculate the best a and b values for the model.\n",
    "for iter in range(maximum_number_of_iterations):\n",
    "    a -= learning_rate*d_by_da(x,y_obs,a,b)  # calculate a new a as the prior a minus the learning rate times the gradiant of the prior a\n",
    "    b -= learning_rate*d_by_db(x,y_obs,a,b)  # calculate b as the prior b minus the learning rate times the gradient of the prior b\n",
    "    y_model = linear(x,a,b)                  # generate the new predicted y values based on the new a and b\n",
    "    ssr.append(loss(x,y_obs,a,b))            # append to the SSR array, the new value of the loss function based on the new a and b\n",
    "    \n",
    "# Print to screen the results of the iteration above - so the new a, b and loss function\n",
    "print('Best a and b are ',a,b)\n",
    "print('Best loss function is ',loss(x,y_obs,a,b))\n",
    "\n",
    "# Put 1 row of 2 plots on the screen.  This is the first of the 2 plots.  It is a scatterplot of the x values with the observed y values. \n",
    "# Also put on the same plot the x values with the predicted y values (the model line we generated)\n",
    "plt.subplot(1,2,1)\n",
    "plt.scatter(x,y_obs)\n",
    "plt.plot(x,y_model)\n",
    "\n",
    "# This is the second of the two plots.  Plot the values in the ssr array.  This shows how quickly the SSR was minimized over the 1000 iterations.\n",
    "plt.subplot(1,2,2)\n",
    "plt.plot(ssr)\n",
    "\n",
    "#Display the 2 plots on the screen.\n",
    "plt.show()\n"
   ]
  },
  {
   "cell_type": "markdown",
   "metadata": {},
   "source": [
    "# Great website explaining gradient descent\n",
    "\n",
    "https://www.kdnuggets.com/2017/04/simple-understand-gradient-descent-algorithm.html"
   ]
  },
  {
   "cell_type": "code",
   "execution_count": null,
   "metadata": {},
   "outputs": [],
   "source": []
  }
 ],
 "metadata": {
  "kernelspec": {
   "display_name": "Python 3",
   "language": "python",
   "name": "python3"
  },
  "language_info": {
   "codemirror_mode": {
    "name": "ipython",
    "version": 3
   },
   "file_extension": ".py",
   "mimetype": "text/x-python",
   "name": "python",
   "nbconvert_exporter": "python",
   "pygments_lexer": "ipython3",
   "version": "3.7.1"
  }
 },
 "nbformat": 4,
 "nbformat_minor": 2
}
