{
 "cells": [
  {
   "cell_type": "markdown",
   "metadata": {},
   "source": [
    "# Compare photos to find the two that are the same\n"
   ]
  },
  {
   "cell_type": "code",
   "execution_count": 46,
   "metadata": {},
   "outputs": [],
   "source": [
    "from PIL import Image, ImageFilter\n",
    "import numpy as np\n",
    "import os\n",
    "os.chdir('c:/data/Stockton - MSDSSA/DataGatheringandWarehousing/JuypterNotebooks')\n",
    "\n",
    "#Read image\n",
    "spy = Image.open( 'DC.png' )\n",
    "\n",
    "#Display image\n",
    "spy.show()\n",
    "\n",
    "# Convert to numpy array\n",
    "spynp = np.array(spy)\n"
   ]
  },
  {
   "cell_type": "code",
   "execution_count": 47,
   "metadata": {},
   "outputs": [
    {
     "name": "stdout",
     "output_type": "stream",
     "text": [
      "['photo1.png', 'photo10.png', 'photo11.png', 'photo12.png', 'photo13.png', 'photo14.png', 'photo15.png', 'photo16.png', 'photo17.png', 'photo18.png', 'photo19.png', 'photo2.png', 'photo20.png', 'photo21.png', 'photo22.png', 'photo23.png', 'photo3.png', 'photo4.png', 'photo5.png', 'photo6.png', 'photo7.png', 'photo8.png', 'photo9.png']\n"
     ]
    }
   ],
   "source": [
    "os.chdir('c:/data/Stockton - MSDSSA/Data Analytics/photos')\n",
    "\n",
    "# Get listing of all files\n",
    "listing = listdir()\n",
    "print(listing)\n"
   ]
  },
  {
   "cell_type": "code",
   "execution_count": 48,
   "metadata": {},
   "outputs": [
    {
     "name": "stdout",
     "output_type": "stream",
     "text": [
      "1271328\n",
      "1365434\n",
      "1294779\n",
      "1351156\n",
      "1330596\n",
      "1287733\n",
      "1339329\n",
      "1368410\n",
      "1275943\n",
      "1359044\n",
      "1299421\n",
      "1252492\n",
      "1288803\n",
      "1339705\n",
      "1317371\n",
      "0\n",
      "The spy is \n",
      "photo23.png\n",
      "1337213\n",
      "1202633\n",
      "1270751\n",
      "1348619\n",
      "1331344\n",
      "1263286\n",
      "1277741\n"
     ]
    }
   ],
   "source": [
    "def SSR(studentnp, spynp ):\n",
    "    ssr = np.sum(np.subtract(studentnp,spynp)**2)\n",
    "    return ssr\n",
    "\n",
    "# Loop through all photo files and compare to the spy photo to find the spy in class\n",
    "\n",
    "for filename in listing:\n",
    " student = Image.open(filename)\n",
    " # Convert to numpy array\n",
    " studentnp = np.array(student)\n",
    " # Compare the two arrays by computing the SSR between them.  The photo with the SSR of 0 is the spy. \n",
    " compare = SSR(studentnp, spynp)\n",
    " print(compare)\n",
    " if compare == 0:\n",
    "   print(\"The spy is \")\n",
    "   student.show()\n",
    "   print(filename)\n",
    "\n"
   ]
  },
  {
   "cell_type": "markdown",
   "metadata": {},
   "source": [
    "# What's intersting is that you don't need to convert to a numpy array.  It can compute the SSR of the image file directly.\n"
   ]
  },
  {
   "cell_type": "code",
   "execution_count": 49,
   "metadata": {},
   "outputs": [
    {
     "name": "stdout",
     "output_type": "stream",
     "text": [
      "1271328\n",
      "1365434\n",
      "1294779\n",
      "1351156\n",
      "1330596\n",
      "1287733\n",
      "1339329\n",
      "1368410\n",
      "1275943\n",
      "1359044\n",
      "1299421\n",
      "1252492\n",
      "1288803\n",
      "1339705\n",
      "1317371\n",
      "0\n",
      "The spy is \n",
      "photo23.png\n",
      "1337213\n",
      "1202633\n",
      "1270751\n",
      "1348619\n",
      "1331344\n",
      "1263286\n",
      "1277741\n"
     ]
    }
   ],
   "source": [
    "def SSR(student, spy ):\n",
    "    ssr = np.sum(np.subtract(student,spy)**2)\n",
    "    return ssr\n",
    "\n",
    "# Loop through all photo files and compare to the spy photo to find the spy in class\n",
    "\n",
    "for filename in listing:\n",
    " student = Image.open(filename)\n",
    " # Compare the two images by computing the SSR between them.  The photo with the SSR of 0 is the spy. \n",
    " compare = SSR(student, spy)\n",
    " print(compare)\n",
    " if compare == 0:\n",
    "   print(\"The spy is \")\n",
    "   student.show()\n",
    "   print(filename)"
   ]
  },
  {
   "cell_type": "code",
   "execution_count": null,
   "metadata": {},
   "outputs": [],
   "source": []
  }
 ],
 "metadata": {
  "kernelspec": {
   "display_name": "Python 3",
   "language": "python",
   "name": "python3"
  },
  "language_info": {
   "codemirror_mode": {
    "name": "ipython",
    "version": 3
   },
   "file_extension": ".py",
   "mimetype": "text/x-python",
   "name": "python",
   "nbconvert_exporter": "python",
   "pygments_lexer": "ipython3",
   "version": "3.7.1"
  }
 },
 "nbformat": 4,
 "nbformat_minor": 2
}
