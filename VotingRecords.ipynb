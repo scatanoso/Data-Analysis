{
 "cells": [
  {
   "cell_type": "markdown",
   "metadata": {},
   "source": [
    "## Susan Catanoso\n",
    "## Voting records - party prediction\n",
    "\n",
    "## Neural Network for binary classification"
   ]
  },
  {
   "cell_type": "markdown",
   "metadata": {},
   "source": [
    "I don't want to use LabelEncoder.  It converts text categorical data into numbers.  It can assign a weight to the value correspondng to the number assigned instead of the categorical value. https://medium.com/@contactsunny/label-encoder-vs-one-hot-encoder-in-machine-learning-3fc273365621    "
   ]
  },
  {
   "cell_type": "code",
   "execution_count": 1,
   "metadata": {},
   "outputs": [
    {
     "name": "stderr",
     "output_type": "stream",
     "text": [
      "Using TensorFlow backend.\n"
     ]
    },
    {
     "data": {
      "text/html": [
       "<div>\n",
       "<style scoped>\n",
       "    .dataframe tbody tr th:only-of-type {\n",
       "        vertical-align: middle;\n",
       "    }\n",
       "\n",
       "    .dataframe tbody tr th {\n",
       "        vertical-align: top;\n",
       "    }\n",
       "\n",
       "    .dataframe thead th {\n",
       "        text-align: right;\n",
       "    }\n",
       "</style>\n",
       "<table border=\"1\" class=\"dataframe\">\n",
       "  <thead>\n",
       "    <tr style=\"text-align: right;\">\n",
       "      <th></th>\n",
       "      <th>Party</th>\n",
       "      <th>handicapped-infants</th>\n",
       "      <th>water-project-cost-sharing</th>\n",
       "      <th>adoption-of-the-budget-resolution</th>\n",
       "      <th>physician-fee-freeze</th>\n",
       "      <th>el-salvador-aid</th>\n",
       "      <th>religious-groups-in-schools</th>\n",
       "      <th>anti-satellite-test-ban</th>\n",
       "      <th>aid-to-nicaraguan-contras</th>\n",
       "      <th>mx-missle</th>\n",
       "      <th>immigration</th>\n",
       "      <th>synfuels-corporation-cutback</th>\n",
       "      <th>education-spending</th>\n",
       "      <th>superfund-right-to-sue</th>\n",
       "      <th>crime</th>\n",
       "      <th>duty-free-exports</th>\n",
       "      <th>export-administration-act-south-africa</th>\n",
       "    </tr>\n",
       "  </thead>\n",
       "  <tbody>\n",
       "    <tr>\n",
       "      <th>0</th>\n",
       "      <td>democrat</td>\n",
       "      <td>n</td>\n",
       "      <td>y</td>\n",
       "      <td>y</td>\n",
       "      <td>n</td>\n",
       "      <td>y</td>\n",
       "      <td>y</td>\n",
       "      <td>n</td>\n",
       "      <td>n</td>\n",
       "      <td>n</td>\n",
       "      <td>n</td>\n",
       "      <td>n</td>\n",
       "      <td>n</td>\n",
       "      <td>y</td>\n",
       "      <td>y</td>\n",
       "      <td>y</td>\n",
       "      <td>y</td>\n",
       "    </tr>\n",
       "    <tr>\n",
       "      <th>1</th>\n",
       "      <td>republican</td>\n",
       "      <td>n</td>\n",
       "      <td>y</td>\n",
       "      <td>n</td>\n",
       "      <td>y</td>\n",
       "      <td>y</td>\n",
       "      <td>y</td>\n",
       "      <td>n</td>\n",
       "      <td>n</td>\n",
       "      <td>n</td>\n",
       "      <td>n</td>\n",
       "      <td>n</td>\n",
       "      <td>y</td>\n",
       "      <td>y</td>\n",
       "      <td>y</td>\n",
       "      <td>n</td>\n",
       "      <td>y</td>\n",
       "    </tr>\n",
       "    <tr>\n",
       "      <th>2</th>\n",
       "      <td>democrat</td>\n",
       "      <td>y</td>\n",
       "      <td>y</td>\n",
       "      <td>y</td>\n",
       "      <td>n</td>\n",
       "      <td>n</td>\n",
       "      <td>n</td>\n",
       "      <td>y</td>\n",
       "      <td>y</td>\n",
       "      <td>y</td>\n",
       "      <td>n</td>\n",
       "      <td>y</td>\n",
       "      <td>n</td>\n",
       "      <td>n</td>\n",
       "      <td>n</td>\n",
       "      <td>y</td>\n",
       "      <td>y</td>\n",
       "    </tr>\n",
       "    <tr>\n",
       "      <th>3</th>\n",
       "      <td>democrat</td>\n",
       "      <td>y</td>\n",
       "      <td>y</td>\n",
       "      <td>y</td>\n",
       "      <td>n</td>\n",
       "      <td>n</td>\n",
       "      <td>n</td>\n",
       "      <td>y</td>\n",
       "      <td>y</td>\n",
       "      <td>y</td>\n",
       "      <td>n</td>\n",
       "      <td>n</td>\n",
       "      <td>n</td>\n",
       "      <td>n</td>\n",
       "      <td>n</td>\n",
       "      <td>y</td>\n",
       "      <td>y</td>\n",
       "    </tr>\n",
       "    <tr>\n",
       "      <th>4</th>\n",
       "      <td>democrat</td>\n",
       "      <td>y</td>\n",
       "      <td>n</td>\n",
       "      <td>y</td>\n",
       "      <td>n</td>\n",
       "      <td>n</td>\n",
       "      <td>n</td>\n",
       "      <td>y</td>\n",
       "      <td>y</td>\n",
       "      <td>y</td>\n",
       "      <td>y</td>\n",
       "      <td>n</td>\n",
       "      <td>n</td>\n",
       "      <td>n</td>\n",
       "      <td>n</td>\n",
       "      <td>y</td>\n",
       "      <td>y</td>\n",
       "    </tr>\n",
       "  </tbody>\n",
       "</table>\n",
       "</div>"
      ],
      "text/plain": [
       "        Party handicapped-infants water-project-cost-sharing  \\\n",
       "0    democrat                   n                          y   \n",
       "1  republican                   n                          y   \n",
       "2    democrat                   y                          y   \n",
       "3    democrat                   y                          y   \n",
       "4    democrat                   y                          n   \n",
       "\n",
       "  adoption-of-the-budget-resolution physician-fee-freeze el-salvador-aid  \\\n",
       "0                                 y                    n               y   \n",
       "1                                 n                    y               y   \n",
       "2                                 y                    n               n   \n",
       "3                                 y                    n               n   \n",
       "4                                 y                    n               n   \n",
       "\n",
       "  religious-groups-in-schools anti-satellite-test-ban  \\\n",
       "0                           y                       n   \n",
       "1                           y                       n   \n",
       "2                           n                       y   \n",
       "3                           n                       y   \n",
       "4                           n                       y   \n",
       "\n",
       "  aid-to-nicaraguan-contras mx-missle immigration  \\\n",
       "0                         n         n           n   \n",
       "1                         n         n           n   \n",
       "2                         y         y           n   \n",
       "3                         y         y           n   \n",
       "4                         y         y           y   \n",
       "\n",
       "  synfuels-corporation-cutback education-spending superfund-right-to-sue  \\\n",
       "0                            n                  n                      y   \n",
       "1                            n                  y                      y   \n",
       "2                            y                  n                      n   \n",
       "3                            n                  n                      n   \n",
       "4                            n                  n                      n   \n",
       "\n",
       "  crime duty-free-exports export-administration-act-south-africa  \n",
       "0     y                 y                                      y  \n",
       "1     y                 n                                      y  \n",
       "2     n                 y                                      y  \n",
       "3     n                 y                                      y  \n",
       "4     n                 y                                      y  "
      ]
     },
     "execution_count": 1,
     "metadata": {},
     "output_type": "execute_result"
    }
   ],
   "source": [
    "# Import necessary libraries\n",
    "from keras.models import Sequential\n",
    "from keras.layers import Dense\n",
    "from keras import optimizers\n",
    "import numpy as np\n",
    "from sklearn.metrics import classification_report, confusion_matrix\n",
    "import pandas as pd\n",
    "import matplotlib.pyplot as plt\n",
    "import seaborn as sns\n",
    "\n",
    "# Define the column headings\n",
    "\n",
    "headers = ['Party', 'handicapped-infants', 'water-project-cost-sharing', 'adoption-of-the-budget-resolution', 'physician-fee-freeze', 'el-salvador-aid', \n",
    "           'religious-groups-in-schools', 'anti-satellite-test-ban', 'aid-to-nicaraguan-contras', 'mx-missle', 'immigration', 'synfuels-corporation-cutback', \n",
    "           'education-spending', 'superfund-right-to-sue', 'crime', 'duty-free-exports', 'export-administration-act-south-africa']\n",
    "\n",
    "# Read in CSV file\n",
    "df = pd.read_csv('votingrecords.csv', header=None, names = headers, delimiter=',')\n",
    "df.head()"
   ]
  },
  {
   "cell_type": "code",
   "execution_count": 2,
   "metadata": {},
   "outputs": [
    {
     "data": {
      "text/html": [
       "<div>\n",
       "<style scoped>\n",
       "    .dataframe tbody tr th:only-of-type {\n",
       "        vertical-align: middle;\n",
       "    }\n",
       "\n",
       "    .dataframe tbody tr th {\n",
       "        vertical-align: top;\n",
       "    }\n",
       "\n",
       "    .dataframe thead th {\n",
       "        text-align: right;\n",
       "    }\n",
       "</style>\n",
       "<table border=\"1\" class=\"dataframe\">\n",
       "  <thead>\n",
       "    <tr style=\"text-align: right;\">\n",
       "      <th></th>\n",
       "      <th>Party</th>\n",
       "      <th>handicapped-infants</th>\n",
       "      <th>water-project-cost-sharing</th>\n",
       "      <th>adoption-of-the-budget-resolution</th>\n",
       "      <th>physician-fee-freeze</th>\n",
       "      <th>el-salvador-aid</th>\n",
       "      <th>religious-groups-in-schools</th>\n",
       "      <th>anti-satellite-test-ban</th>\n",
       "      <th>aid-to-nicaraguan-contras</th>\n",
       "      <th>mx-missle</th>\n",
       "      <th>immigration</th>\n",
       "      <th>synfuels-corporation-cutback</th>\n",
       "      <th>education-spending</th>\n",
       "      <th>superfund-right-to-sue</th>\n",
       "      <th>crime</th>\n",
       "      <th>duty-free-exports</th>\n",
       "      <th>export-administration-act-south-africa</th>\n",
       "    </tr>\n",
       "  </thead>\n",
       "  <tbody>\n",
       "    <tr>\n",
       "      <th>count</th>\n",
       "      <td>232</td>\n",
       "      <td>232</td>\n",
       "      <td>232</td>\n",
       "      <td>232</td>\n",
       "      <td>232</td>\n",
       "      <td>232</td>\n",
       "      <td>232</td>\n",
       "      <td>232</td>\n",
       "      <td>232</td>\n",
       "      <td>232</td>\n",
       "      <td>232</td>\n",
       "      <td>232</td>\n",
       "      <td>232</td>\n",
       "      <td>232</td>\n",
       "      <td>232</td>\n",
       "      <td>232</td>\n",
       "      <td>232</td>\n",
       "    </tr>\n",
       "    <tr>\n",
       "      <th>unique</th>\n",
       "      <td>2</td>\n",
       "      <td>2</td>\n",
       "      <td>2</td>\n",
       "      <td>2</td>\n",
       "      <td>2</td>\n",
       "      <td>2</td>\n",
       "      <td>2</td>\n",
       "      <td>2</td>\n",
       "      <td>2</td>\n",
       "      <td>2</td>\n",
       "      <td>2</td>\n",
       "      <td>2</td>\n",
       "      <td>2</td>\n",
       "      <td>2</td>\n",
       "      <td>2</td>\n",
       "      <td>2</td>\n",
       "      <td>2</td>\n",
       "    </tr>\n",
       "    <tr>\n",
       "      <th>top</th>\n",
       "      <td>democrat</td>\n",
       "      <td>n</td>\n",
       "      <td>n</td>\n",
       "      <td>y</td>\n",
       "      <td>n</td>\n",
       "      <td>y</td>\n",
       "      <td>y</td>\n",
       "      <td>y</td>\n",
       "      <td>y</td>\n",
       "      <td>n</td>\n",
       "      <td>y</td>\n",
       "      <td>n</td>\n",
       "      <td>n</td>\n",
       "      <td>y</td>\n",
       "      <td>y</td>\n",
       "      <td>n</td>\n",
       "      <td>y</td>\n",
       "    </tr>\n",
       "    <tr>\n",
       "      <th>freq</th>\n",
       "      <td>124</td>\n",
       "      <td>136</td>\n",
       "      <td>125</td>\n",
       "      <td>123</td>\n",
       "      <td>119</td>\n",
       "      <td>128</td>\n",
       "      <td>149</td>\n",
       "      <td>124</td>\n",
       "      <td>119</td>\n",
       "      <td>119</td>\n",
       "      <td>128</td>\n",
       "      <td>152</td>\n",
       "      <td>124</td>\n",
       "      <td>127</td>\n",
       "      <td>149</td>\n",
       "      <td>146</td>\n",
       "      <td>189</td>\n",
       "    </tr>\n",
       "  </tbody>\n",
       "</table>\n",
       "</div>"
      ],
      "text/plain": [
       "           Party handicapped-infants water-project-cost-sharing  \\\n",
       "count        232                 232                        232   \n",
       "unique         2                   2                          2   \n",
       "top     democrat                   n                          n   \n",
       "freq         124                 136                        125   \n",
       "\n",
       "       adoption-of-the-budget-resolution physician-fee-freeze el-salvador-aid  \\\n",
       "count                                232                  232             232   \n",
       "unique                                 2                    2               2   \n",
       "top                                    y                    n               y   \n",
       "freq                                 123                  119             128   \n",
       "\n",
       "       religious-groups-in-schools anti-satellite-test-ban  \\\n",
       "count                          232                     232   \n",
       "unique                           2                       2   \n",
       "top                              y                       y   \n",
       "freq                           149                     124   \n",
       "\n",
       "       aid-to-nicaraguan-contras mx-missle immigration  \\\n",
       "count                        232       232         232   \n",
       "unique                         2         2           2   \n",
       "top                            y         n           y   \n",
       "freq                         119       119         128   \n",
       "\n",
       "       synfuels-corporation-cutback education-spending superfund-right-to-sue  \\\n",
       "count                           232                232                    232   \n",
       "unique                            2                  2                      2   \n",
       "top                               n                  n                      y   \n",
       "freq                            152                124                    127   \n",
       "\n",
       "       crime duty-free-exports export-administration-act-south-africa  \n",
       "count    232               232                                    232  \n",
       "unique     2                 2                                      2  \n",
       "top        y                 n                                      y  \n",
       "freq     149               146                                    189  "
      ]
     },
     "execution_count": 2,
     "metadata": {},
     "output_type": "execute_result"
    }
   ],
   "source": [
    "df.describe()"
   ]
  },
  {
   "cell_type": "code",
   "execution_count": 3,
   "metadata": {},
   "outputs": [
    {
     "data": {
      "text/plain": [
       "Party                                     object\n",
       "handicapped-infants                       object\n",
       "water-project-cost-sharing                object\n",
       "adoption-of-the-budget-resolution         object\n",
       "physician-fee-freeze                      object\n",
       "el-salvador-aid                           object\n",
       "religious-groups-in-schools               object\n",
       "anti-satellite-test-ban                   object\n",
       "aid-to-nicaraguan-contras                 object\n",
       "mx-missle                                 object\n",
       "immigration                               object\n",
       "synfuels-corporation-cutback              object\n",
       "education-spending                        object\n",
       "superfund-right-to-sue                    object\n",
       "crime                                     object\n",
       "duty-free-exports                         object\n",
       "export-administration-act-south-africa    object\n",
       "dtype: object"
      ]
     },
     "execution_count": 3,
     "metadata": {},
     "output_type": "execute_result"
    }
   ],
   "source": [
    "df.dtypes"
   ]
  },
  {
   "cell_type": "code",
   "execution_count": 4,
   "metadata": {},
   "outputs": [
    {
     "data": {
      "text/html": [
       "<div>\n",
       "<style scoped>\n",
       "    .dataframe tbody tr th:only-of-type {\n",
       "        vertical-align: middle;\n",
       "    }\n",
       "\n",
       "    .dataframe tbody tr th {\n",
       "        vertical-align: top;\n",
       "    }\n",
       "\n",
       "    .dataframe thead th {\n",
       "        text-align: right;\n",
       "    }\n",
       "</style>\n",
       "<table border=\"1\" class=\"dataframe\">\n",
       "  <thead>\n",
       "    <tr style=\"text-align: right;\">\n",
       "      <th></th>\n",
       "      <th>Party</th>\n",
       "      <th>handicapped-infants</th>\n",
       "      <th>water-project-cost-sharing</th>\n",
       "      <th>adoption-of-the-budget-resolution</th>\n",
       "      <th>physician-fee-freeze</th>\n",
       "      <th>el-salvador-aid</th>\n",
       "      <th>religious-groups-in-schools</th>\n",
       "      <th>anti-satellite-test-ban</th>\n",
       "      <th>aid-to-nicaraguan-contras</th>\n",
       "      <th>mx-missle</th>\n",
       "      <th>immigration</th>\n",
       "      <th>synfuels-corporation-cutback</th>\n",
       "      <th>education-spending</th>\n",
       "      <th>superfund-right-to-sue</th>\n",
       "      <th>crime</th>\n",
       "      <th>duty-free-exports</th>\n",
       "      <th>export-administration-act-south-africa</th>\n",
       "    </tr>\n",
       "  </thead>\n",
       "  <tbody>\n",
       "    <tr>\n",
       "      <th>0</th>\n",
       "      <td>0</td>\n",
       "      <td>0</td>\n",
       "      <td>1</td>\n",
       "      <td>1</td>\n",
       "      <td>0</td>\n",
       "      <td>1</td>\n",
       "      <td>1</td>\n",
       "      <td>0</td>\n",
       "      <td>0</td>\n",
       "      <td>0</td>\n",
       "      <td>0</td>\n",
       "      <td>0</td>\n",
       "      <td>0</td>\n",
       "      <td>1</td>\n",
       "      <td>1</td>\n",
       "      <td>1</td>\n",
       "      <td>1</td>\n",
       "    </tr>\n",
       "    <tr>\n",
       "      <th>1</th>\n",
       "      <td>1</td>\n",
       "      <td>0</td>\n",
       "      <td>1</td>\n",
       "      <td>0</td>\n",
       "      <td>1</td>\n",
       "      <td>1</td>\n",
       "      <td>1</td>\n",
       "      <td>0</td>\n",
       "      <td>0</td>\n",
       "      <td>0</td>\n",
       "      <td>0</td>\n",
       "      <td>0</td>\n",
       "      <td>1</td>\n",
       "      <td>1</td>\n",
       "      <td>1</td>\n",
       "      <td>0</td>\n",
       "      <td>1</td>\n",
       "    </tr>\n",
       "    <tr>\n",
       "      <th>2</th>\n",
       "      <td>0</td>\n",
       "      <td>1</td>\n",
       "      <td>1</td>\n",
       "      <td>1</td>\n",
       "      <td>0</td>\n",
       "      <td>0</td>\n",
       "      <td>0</td>\n",
       "      <td>1</td>\n",
       "      <td>1</td>\n",
       "      <td>1</td>\n",
       "      <td>0</td>\n",
       "      <td>1</td>\n",
       "      <td>0</td>\n",
       "      <td>0</td>\n",
       "      <td>0</td>\n",
       "      <td>1</td>\n",
       "      <td>1</td>\n",
       "    </tr>\n",
       "    <tr>\n",
       "      <th>3</th>\n",
       "      <td>0</td>\n",
       "      <td>1</td>\n",
       "      <td>1</td>\n",
       "      <td>1</td>\n",
       "      <td>0</td>\n",
       "      <td>0</td>\n",
       "      <td>0</td>\n",
       "      <td>1</td>\n",
       "      <td>1</td>\n",
       "      <td>1</td>\n",
       "      <td>0</td>\n",
       "      <td>0</td>\n",
       "      <td>0</td>\n",
       "      <td>0</td>\n",
       "      <td>0</td>\n",
       "      <td>1</td>\n",
       "      <td>1</td>\n",
       "    </tr>\n",
       "    <tr>\n",
       "      <th>4</th>\n",
       "      <td>0</td>\n",
       "      <td>1</td>\n",
       "      <td>0</td>\n",
       "      <td>1</td>\n",
       "      <td>0</td>\n",
       "      <td>0</td>\n",
       "      <td>0</td>\n",
       "      <td>1</td>\n",
       "      <td>1</td>\n",
       "      <td>1</td>\n",
       "      <td>1</td>\n",
       "      <td>0</td>\n",
       "      <td>0</td>\n",
       "      <td>0</td>\n",
       "      <td>0</td>\n",
       "      <td>1</td>\n",
       "      <td>1</td>\n",
       "    </tr>\n",
       "  </tbody>\n",
       "</table>\n",
       "</div>"
      ],
      "text/plain": [
       "  Party handicapped-infants water-project-cost-sharing  \\\n",
       "0     0                   0                          1   \n",
       "1     1                   0                          1   \n",
       "2     0                   1                          1   \n",
       "3     0                   1                          1   \n",
       "4     0                   1                          0   \n",
       "\n",
       "  adoption-of-the-budget-resolution physician-fee-freeze el-salvador-aid  \\\n",
       "0                                 1                    0               1   \n",
       "1                                 0                    1               1   \n",
       "2                                 1                    0               0   \n",
       "3                                 1                    0               0   \n",
       "4                                 1                    0               0   \n",
       "\n",
       "  religious-groups-in-schools anti-satellite-test-ban  \\\n",
       "0                           1                       0   \n",
       "1                           1                       0   \n",
       "2                           0                       1   \n",
       "3                           0                       1   \n",
       "4                           0                       1   \n",
       "\n",
       "  aid-to-nicaraguan-contras mx-missle immigration  \\\n",
       "0                         0         0           0   \n",
       "1                         0         0           0   \n",
       "2                         1         1           0   \n",
       "3                         1         1           0   \n",
       "4                         1         1           1   \n",
       "\n",
       "  synfuels-corporation-cutback education-spending superfund-right-to-sue  \\\n",
       "0                            0                  0                      1   \n",
       "1                            0                  1                      1   \n",
       "2                            1                  0                      0   \n",
       "3                            0                  0                      0   \n",
       "4                            0                  0                      0   \n",
       "\n",
       "  crime duty-free-exports export-administration-act-south-africa  \n",
       "0     1                 1                                      1  \n",
       "1     1                 0                                      1  \n",
       "2     0                 1                                      1  \n",
       "3     0                 1                                      1  \n",
       "4     0                 1                                      1  "
      ]
     },
     "execution_count": 4,
     "metadata": {},
     "output_type": "execute_result"
    }
   ],
   "source": [
    "# Replace y with 1, n with 0, republican with 1 and democrat with 0\n",
    "\n",
    "codeddf = df.replace(['y', 'n', 'republican', 'democrat'], ['1', '0', '1', '0'])\n",
    "codeddf.head()"
   ]
  },
  {
   "cell_type": "code",
   "execution_count": 5,
   "metadata": {},
   "outputs": [
    {
     "data": {
      "text/plain": [
       "Party                                     int64\n",
       "handicapped-infants                       int64\n",
       "water-project-cost-sharing                int64\n",
       "adoption-of-the-budget-resolution         int64\n",
       "physician-fee-freeze                      int64\n",
       "el-salvador-aid                           int64\n",
       "religious-groups-in-schools               int64\n",
       "anti-satellite-test-ban                   int64\n",
       "aid-to-nicaraguan-contras                 int64\n",
       "mx-missle                                 int64\n",
       "immigration                               int64\n",
       "synfuels-corporation-cutback              int64\n",
       "education-spending                        int64\n",
       "superfund-right-to-sue                    int64\n",
       "crime                                     int64\n",
       "duty-free-exports                         int64\n",
       "export-administration-act-south-africa    int64\n",
       "dtype: object"
      ]
     },
     "execution_count": 5,
     "metadata": {},
     "output_type": "execute_result"
    }
   ],
   "source": [
    "codeddf = codeddf.apply(pd.to_numeric)\n",
    "codeddf.dtypes"
   ]
  },
  {
   "cell_type": "code",
   "execution_count": 6,
   "metadata": {},
   "outputs": [
    {
     "data": {
      "text/plain": [
       "array([[0, 1, 1, ..., 1, 1, 1],\n",
       "       [0, 1, 0, ..., 1, 0, 1],\n",
       "       [1, 1, 1, ..., 0, 1, 1],\n",
       "       ...,\n",
       "       [0, 0, 0, ..., 1, 0, 1],\n",
       "       [0, 0, 1, ..., 1, 0, 1],\n",
       "       [0, 0, 1, ..., 0, 0, 1]], dtype=int64)"
      ]
     },
     "execution_count": 6,
     "metadata": {},
     "output_type": "execute_result"
    }
   ],
   "source": [
    "# set random seed for reproducibility\n",
    "np.random.seed(7)\n",
    "\n",
    "# split data into input (X) and output (Y) variables\n",
    "X = codeddf.iloc[:,1:17].to_numpy()   # These columns are the voting record on 16 issues\n",
    "Y = codeddf.iloc[:,0].to_numpy()      # Indicates party of person\n",
    "X"
   ]
  },
  {
   "cell_type": "markdown",
   "metadata": {},
   "source": [
    "# Now that the data is properly encoded and subset for training, try various model configurations."
   ]
  },
  {
   "cell_type": "code",
   "execution_count": 7,
   "metadata": {},
   "outputs": [
    {
     "name": "stdout",
     "output_type": "stream",
     "text": [
      "232/232 [==============================] - 0s 155us/step\n",
      "\n",
      "acc: 98.71%\n",
      "Confusion Matrix\n",
      "================\n",
      "True negatives:  121\n",
      "False negatives:  0\n",
      "False positives:  3\n",
      "True positives:  108\n"
     ]
    }
   ],
   "source": [
    "# create model number 1 - 4 layers, with 16 input nodes, 12 layer 2 nodes, 8 layer 3 nodes and 1 layer 4 node\n",
    "\n",
    "model = Sequential()        # Builds a model layer by layer.  Each layer has the weights corresponding to the layer it connects forward to\n",
    "model.add(Dense(12, input_dim = 16, activation = 'relu')) # Connects densely (all nodes connect to every node in the next layer) 16 inputs \n",
    "                                                         # to next layer of 12 neurons; uses ReLU activation\n",
    "model.add(Dense(8, activation = 'relu' ))                # Create next level of neural network with 8 neurons-no input layer, just prior \n",
    "                                                         # layer; uses ReLU activation\n",
    "model.add(Dense(1, activation = 'sigmoid'))    # Create last level of neural network with 1 neuron-no input layer; uses Sigmoid activation\n",
    "\n",
    "# Compile model\n",
    "adam = optimizers.Adam(lr=.001)                               # Assign the optimizer algorithm to a variable\n",
    "model.compile(loss = 'binary_crossentropy', optimizer = adam, metrics = ['accuracy'])  # Compiles the model using the parameters speccified\n",
    "                                                                                         # Loss is the loss function to be used; \n",
    "                                                                                         # Optimizer determines the learning rate\n",
    "# Train the model over 150 epochs \n",
    "training_iteration = 150\n",
    "\n",
    "# Fit the model\n",
    "model_epochdata = model.fit(X, Y, epochs = training_iteration, verbose = 0)  # Generate the model with X as input and Y as the result; \n",
    "                                                        # model will run through \"training_iteration\" number of iterations \n",
    "                                                        # to improve the model; assigning the results to a variable will create \n",
    "                                                        # an object with the history of the iterations, \n",
    "                                                        # setting verbose to 0 will suppress the output from displaying.\n",
    "\n",
    "# Evaluate the model\n",
    "scores = model.evaluate(X, Y)               # assigns the final loss and final accuracy of the model to a list  \n",
    "\n",
    "Y_predict = model.predict(X)                # assigns the predicted Y for each observation of X\n",
    "\n",
    "print(\"\\n%s: %.2f%%\" % (model.metrics_names[1], scores[1]*100))\n",
    "\n",
    "# Dr Manson included this code which will create confusion matrix details\n",
    "rounded = [round(i[0]) for i in Y_predict]\n",
    "y_pred = np.array(rounded,dtype='int64')\n",
    "print('Confusion Matrix')\n",
    "print('================')\n",
    "CM = confusion_matrix(Y, y_pred)\n",
    "print('True negatives: ',CM[0,0])\n",
    "print('False negatives: ',CM[1,0])\n",
    "print('False positives: ',CM[0,1])\n",
    "print('True positives: ',CM[1,1])"
   ]
  },
  {
   "cell_type": "code",
   "execution_count": 10,
   "metadata": {},
   "outputs": [
    {
     "name": "stdout",
     "output_type": "stream",
     "text": [
      "232/232 [==============================] - 0s 328us/step\n",
      "\n",
      "acc: 100.00%\n",
      "Confusion Matrix\n",
      "================\n",
      "True negatives:  124\n",
      "False negatives:  0\n",
      "False positives:  0\n",
      "True positives:  108\n"
     ]
    }
   ],
   "source": [
    "# See if increasing the nodes increases the accuracy of the model\n",
    "# create model number 2 - increase number of nodes in the layers\n",
    "model = Sequential()        # Builds a model layer by layer.  Each layer has the weights corresponding to the layer it connects forward to\n",
    "model.add(Dense(20, input_dim = 16, activation = 'relu')) # Connects densely (all nodes connect to every node in the next layer) 16 inputs \n",
    "                                                         # to next layer of 20 neurons; uses ReLU activation\n",
    "model.add(Dense(12, activation = 'relu' ))                # Create next level of neural network with 12 neurons-no input layer, just prior \n",
    "                                                         # layer; uses ReLU activation\n",
    "model.add(Dense(1, activation = 'sigmoid'))    # Create last level of neural network with 1 neuron-no input layer; uses Sigmoid activation\n",
    "\n",
    "# Compile model\n",
    "adam = optimizers.Adam(lr=.001)                               # Assign the optimizer algorithm to a variable\n",
    "model.compile(loss = 'binary_crossentropy', optimizer = adam, metrics = ['accuracy'])  # Compiles the model using the parameters speccified\n",
    "                                                                                         # Loss is the loss function to be used; \n",
    "                                                                                         # Optimizer determines the learning rate\n",
    "# Train the model over 150 epochs \n",
    "training_iteration = 150\n",
    "\n",
    "# Fit the model\n",
    "model_epochdata = model.fit(X, Y, epochs = training_iteration, verbose = 0)  # Generate the model with X as input and Y as the result; \n",
    "                                                        # model will run through \"training_iteration\" number of iterations \n",
    "                                                        # to improve the model; assigning the results to a variable will create \n",
    "                                                        # an object with the history of the iterations, \n",
    "                                                        # setting verbose to 0 will suppress the output from displaying.\n",
    "\n",
    "# Evaluate the model\n",
    "scores = model.evaluate(X, Y)               # assigns the final loss and final accuracy of the model to a list  \n",
    "\n",
    "Y_predict = model.predict(X)                # assigns the predicted Y for each observation of X\n",
    "\n",
    "print(\"\\n%s: %.2f%%\" % (model.metrics_names[1], scores[1]*100))\n",
    "\n",
    "# Dr Manson included this code which will create confusion matrix details\n",
    "rounded = [round(i[0]) for i in Y_predict]\n",
    "y_pred = np.array(rounded,dtype='int64')\n",
    "print('Confusion Matrix')\n",
    "print('================')\n",
    "CM = confusion_matrix(Y, y_pred)\n",
    "print('True negatives: ',CM[0,0])\n",
    "print('False negatives: ',CM[1,0])\n",
    "print('False positives: ',CM[0,1])\n",
    "print('True positives: ',CM[1,1])"
   ]
  },
  {
   "cell_type": "code",
   "execution_count": 11,
   "metadata": {},
   "outputs": [
    {
     "name": "stdout",
     "output_type": "stream",
     "text": [
      "232/232 [==============================] - 0s 405us/step\n",
      "\n",
      "acc: 99.14%\n",
      "Confusion Matrix\n",
      "================\n",
      "True negatives:  123\n",
      "False negatives:  1\n",
      "False positives:  1\n",
      "True positives:  107\n"
     ]
    }
   ],
   "source": [
    "# Still not 100% so increase the number of layers to see if that helps\n",
    "# create model number 3 - increase number of layers with the smaller amount of nodes\n",
    "model = Sequential()        # Builds a model layer by layer.  Each layer has the weights corresponding to the layer it connects forward to\n",
    "model.add(Dense(12, input_dim = 16, activation = 'relu')) # Connects densely (all nodes connect to every node in the next layer) 16 inputs \n",
    "                                                         # to next layer of 12 neurons; uses ReLU activation\n",
    "model.add(Dense(8, activation = 'relu' ))                # Create next level of neural network with 8 neurons-no input layer, just prior \n",
    "                                                         # layer; uses ReLU activation\n",
    "model.add(Dense(4, activation = 'relu'))                 # Create next level of neural network with 4 neurons-no input layer, just prior \n",
    "                                                         # layer; uses ReLU activation\n",
    "model.add(Dense(1, activation = 'sigmoid'))    # Create last level of neural network with 1 neuron-no input layer; uses Sigmoid activation\n",
    "\n",
    "# Compile model\n",
    "adam = optimizers.Adam(lr=.001)                               # Assign the optimizer algorithm to a variable\n",
    "model.compile(loss = 'binary_crossentropy', optimizer = adam, metrics = ['accuracy'])  # Compiles the model using the parameters speccified\n",
    "                                                                                         # Loss is the loss function to be used; \n",
    "                                                                                         # Optimizer determines the learning rate\n",
    "# Train the model over 150 epochs \n",
    "training_iteration = 150\n",
    "\n",
    "# Fit the model\n",
    "model_epochdata = model.fit(X, Y, epochs = training_iteration, verbose = 0)  # Generate the model with X as input and Y as the result; \n",
    "                                                        # model will run through \"training_iteration\" number of iterations \n",
    "                                                        # to improve the model; assigning the results to a variable will create \n",
    "                                                        # an object with the history of the iterations, \n",
    "                                                        # setting verbose to 0 will suppress the output from displaying.\n",
    "\n",
    "# Evaluate the model\n",
    "scores = model.evaluate(X, Y)               # assigns the final loss and final accuracy of the model to a list  \n",
    "\n",
    "Y_predict = model.predict(X)                # assigns the predicted Y for each observation of X\n",
    "\n",
    "print(\"\\n%s: %.2f%%\" % (model.metrics_names[1], scores[1]*100))\n",
    "\n",
    "# Dr Manson included this code which will create confusion matrix details\n",
    "rounded = [round(i[0]) for i in Y_predict]\n",
    "y_pred = np.array(rounded,dtype='int64')\n",
    "print('Confusion Matrix')\n",
    "print('================')\n",
    "CM = confusion_matrix(Y, y_pred)\n",
    "print('True negatives: ',CM[0,0])\n",
    "print('False negatives: ',CM[1,0])\n",
    "print('False positives: ',CM[0,1])\n",
    "print('True positives: ',CM[1,1])"
   ]
  },
  {
   "cell_type": "code",
   "execution_count": 12,
   "metadata": {},
   "outputs": [
    {
     "name": "stdout",
     "output_type": "stream",
     "text": [
      "232/232 [==============================] - 0s 461us/step\n",
      "\n",
      "acc: 100.00%\n",
      "Confusion Matrix\n",
      "================\n",
      "True negatives:  124\n",
      "False negatives:  0\n",
      "False positives:  0\n",
      "True positives:  108\n"
     ]
    }
   ],
   "source": [
    "# Try increasing the number of nodes on the 5 layer model\n",
    "# Create model number 4 - increased number of layers (5) with increased number of nodes\n",
    "model = Sequential()        # Builds a model layer by layer.  Each layer has the weights corresponding to the layer it connects forward to\n",
    "model.add(Dense(20, input_dim = 16, activation = 'relu')) # Connects densely (all nodes connect to every node in the next layer) 16 inputs \n",
    "                                                         # to next layer of 12 neurons; uses ReLU activation\n",
    "model.add(Dense(12, activation = 'relu' ))                # Create next level of neural network with 8 neurons-no input layer, just prior \n",
    "                                                         # layer; uses ReLU activation\n",
    "model.add(Dense(8, activation = 'relu'))                 # Create next level of neural network with 4 neurons-no input layer, just prior \n",
    "                                                         # layer; uses ReLU activation\n",
    "model.add(Dense(1, activation = 'sigmoid'))    # Create last level of neural network with 1 neuron-no input layer; uses Sigmoid activation\n",
    "\n",
    "# Compile model\n",
    "adam = optimizers.Adam(lr=.001)                               # Assign the optimizer algorithm to a variable\n",
    "model.compile(loss = 'binary_crossentropy', optimizer = adam, metrics = ['accuracy'])  # Compiles the model using the parameters speccified\n",
    "                                                                                         # Loss is the loss function to be used; \n",
    "                                                                                         # Optimizer determines the learning rate\n",
    "# Train the model over 150 epochs \n",
    "training_iteration = 150\n",
    "\n",
    "# Fit the model\n",
    "model_epochdata = model.fit(X, Y, epochs = training_iteration, verbose = 0)  # Generate the model with X as input and Y as the result; \n",
    "                                                        # model will run through \"training_iteration\" number of iterations \n",
    "                                                        # to improve the model; assigning the results to a variable will create \n",
    "                                                        # an object with the history of the iterations, \n",
    "                                                        # setting verbose to 0 will suppress the output from displaying.\n",
    "\n",
    "# Evaluate the model\n",
    "scores = model.evaluate(X, Y)               # assigns the final loss and final accuracy of the model to a list  \n",
    "\n",
    "Y_predict = model.predict(X)                # assigns the predicted Y for each observation of X\n",
    "\n",
    "print(\"\\n%s: %.2f%%\" % (model.metrics_names[1], scores[1]*100))\n",
    "\n",
    "# Dr Manson included this code which will create confusion matrix details\n",
    "rounded = [round(i[0]) for i in Y_predict]\n",
    "y_pred = np.array(rounded,dtype='int64')\n",
    "print('Confusion Matrix')\n",
    "print('================')\n",
    "CM = confusion_matrix(Y, y_pred)\n",
    "print('True negatives: ',CM[0,0])\n",
    "print('False negatives: ',CM[1,0])\n",
    "print('False positives: ',CM[0,1])\n",
    "print('True positives: ',CM[1,1])"
   ]
  },
  {
   "cell_type": "markdown",
   "metadata": {},
   "source": [
    "# Going to use model 4.  It's result was 100% after 150 epochs in testing models with a learning rate of .001.  Could have also used model 2."
   ]
  },
  {
   "cell_type": "code",
   "execution_count": 13,
   "metadata": {},
   "outputs": [
    {
     "data": {
      "text/plain": [
       "108"
      ]
     },
     "execution_count": 13,
     "metadata": {},
     "output_type": "execute_result"
    }
   ],
   "source": [
    "# Put data into a dataframe to manipulate to graph\n",
    "Y_observed = pd.DataFrame(Y.reshape(len(Y),1))\n",
    "Y_observed.columns = ['Actual_Political_Party']\n",
    "Y_predict = pd.DataFrame(Y_predict)\n",
    "Y_predict.columns = ['Predicted_Political_Party']\n",
    "\n",
    "Results150 = pd.concat([Y_observed, Y_predict], axis = 1)\n",
    "sum(Results150.Actual_Political_Party)                                   # Sanity check - expect 108 - there were originally 124 democrats with 232 records; therefore 108\n",
    "                                                                         # republicans.  Since republicans were assigned 1 and democrats 0, this total should be 108."
   ]
  },
  {
   "cell_type": "code",
   "execution_count": 14,
   "metadata": {},
   "outputs": [],
   "source": [
    "# Convert the 1 to Republican and the 0 to Democrat in the Actual_Political_Party column\n",
    "Results150['Actual_Political_Party']=Results150['Actual_Political_Party'].astype(str)\n",
    "Results150['Actual_Political_Party'].replace('1', 'Republican', inplace=True)\n",
    "Results150['Actual_Political_Party'].replace('0', 'Democrat', inplace=True)\n",
    "#Results150"
   ]
  },
  {
   "cell_type": "code",
   "execution_count": 15,
   "metadata": {},
   "outputs": [
    {
     "data": {
      "text/plain": [
       "Text(0.5, 1.0, 'Actual vs Predicted Party in Congress with an adam Learning Rate of .001')"
      ]
     },
     "execution_count": 15,
     "metadata": {},
     "output_type": "execute_result"
    },
    {
     "data": {
      "image/png": "[encoded data removed]",
      "text/plain": [
       "<Figure size 432x288 with 1 Axes>"
      ]
     },
     "metadata": {
      "needs_background": "light"
     },
     "output_type": "display_data"
    }
   ],
   "source": [
    "# Generate a boxplot to show the distribution of the predicted values vs the actual observed values, and also show the predictions with jitter \n",
    "ax = sns.boxplot(x = 'Actual_Political_Party', y = 'Predicted_Political_Party', data = Results150, order =['Democrat', 'Republican'])     # standard boxplot\n",
    "ax = sns.stripplot(x = 'Actual_Political_Party', y = 'Predicted_Political_Party', data = Results150, order = ['Democrat', 'Republican'], color = 'red', jitter = 0.2, size = 2.5)   \n",
    "                                                                                                                 # Add jitter to boxplot\n",
    "\n",
    "# Add number of observations to the boxplot\n",
    "nobs = Results150.groupby('Actual_Political_Party').size().values\n",
    "nobs = [str(x) for x in nobs.tolist()]\n",
    "nobs = [ 'Number of Representatives:  ' + i for i in nobs]\n",
    "\n",
    "\n",
    "pos = range(len(nobs))\n",
    "for tick, label in zip(pos, ax.get_xticklabels()):\n",
    "    plt.text(pos[tick], -.3, nobs[tick], horizontalalignment='center', size = 'medium', color = 'black')\n",
    "plt.title('Actual vs Predicted Party in Congress with an adam Learning Rate of .001')\n"
   ]
  },
  {
   "cell_type": "markdown",
   "metadata": {},
   "source": [
    "# The model predicted with 100% accuracy the party affiliation.  There were no false positives or negatives according to the confusion matrix.  The boxplot indicates no data above 50% for Democrat and none below 50% for Republican which corresponds to the confusion matrix."
   ]
  },
  {
   "cell_type": "code",
   "execution_count": 16,
   "metadata": {},
   "outputs": [],
   "source": [
    "accuracy150 = model_epochdata.history['acc']    #  Assigns the accuracy numbers to a list\n",
    "loss150 = model_epochdata.history['loss']       #  Assigns the loss numbers to a list"
   ]
  },
  {
   "cell_type": "code",
   "execution_count": 17,
   "metadata": {},
   "outputs": [
    {
     "data": {
      "image/png": "[encoded data removed]",
      "text/plain": [
       "<Figure size 432x288 with 1 Axes>"
      ]
     },
     "metadata": {
      "needs_background": "light"
     },
     "output_type": "display_data"
    }
   ],
   "source": [
    "# Plot accuracy and loss vs epoch\n",
    "\n",
    "plt.plot(loss150,label='Loss')\n",
    "plt.plot(accuracy150, label='Accuracy')\n",
    "plt.xlabel('Epoch')\n",
    "plt.ylabel('Convergence')\n",
    "plt.legend(loc = 'best')\n",
    "plt.title(\"Model Accuracy and Loss Convergence vs Model Epochs Run for a .001 Learning Rate adam Model\")\n",
    "plt.show()"
   ]
  },
  {
   "cell_type": "markdown",
   "metadata": {},
   "source": [
    "# Re-run the model with .0001 learning rate."
   ]
  },
  {
   "cell_type": "code",
   "execution_count": 18,
   "metadata": {},
   "outputs": [
    {
     "name": "stdout",
     "output_type": "stream",
     "text": [
      "232/232 [==============================] - 0s 543us/step\n",
      "\n",
      "acc: 93.10%\n",
      "Confusion Matrix\n",
      "================\n",
      "True negatives:  116\n",
      "False negatives:  8\n",
      "False positives:  8\n",
      "True positives:  100\n"
     ]
    }
   ],
   "source": [
    "model = Sequential()        # Builds a model layer by layer.  Each layer has the weights corresponding to the layer it connects forward to\n",
    "model.add(Dense(20, input_dim = 16, activation = 'relu')) # Connects densely (all nodes connect to every node in the next layer) 16 inputs \n",
    "                                                         # to next layer of 12 neurons; uses ReLU activation\n",
    "model.add(Dense(12, activation = 'relu' ))                # Create next level of neural network with 8 neurons-no input layer, just prior \n",
    "                                                         # layer; uses ReLU activation\n",
    "model.add(Dense(8, activation = 'relu'))                 # Create next level of neural network with 4 neurons-no input layer, just prior \n",
    "                                                         # layer; uses ReLU activation\n",
    "model.add(Dense(1, activation = 'sigmoid'))    # Create last level of neural network with 1 neuron-no input layer; uses Sigmoid activation\n",
    "\n",
    "# Compile model\n",
    "adam = optimizers.Adam(lr=.0001)                               # Assign the optimizer algorithm to a variable\n",
    "model.compile(loss = 'binary_crossentropy', optimizer = adam, metrics = ['accuracy'])  # Compiles the model using the parameters speccified\n",
    "                                                                                         # Loss is the loss function to be used; \n",
    "                                                                                         # Optimizer determines the learning rate# Train the model over 150 epochs \n",
    "training_iteration = 150\n",
    "\n",
    "# Fit the model\n",
    "model_epochdata1500 = model.fit(X, Y, epochs = training_iteration, verbose = 0)  # Generate the model with X as input and Y as the result; \n",
    "                                                        # model will run through \"training_iteration\" number of iterations \n",
    "                                                        # to improve the model; assigning the results to a variable will create \n",
    "                                                        # an object with the history of the iterations, \n",
    "                                                        # setting verbose to 0 will suppress the output from displaying.\n",
    "\n",
    "# Evaluate the model\n",
    "scores1500 = model.evaluate(X, Y)               # assigns the final loss and final accuracy of the model to a list  \n",
    "\n",
    "Y_predict1500 = model.predict(X)                # assigns the predicted Y for each observation of X\n",
    "\n",
    "print(\"\\n%s: %.2f%%\" % (model.metrics_names[1], scores1500[1]*100))\n",
    "\n",
    "rounded1500 = [round(i[0]) for i in Y_predict1500]\n",
    "y_pred1500 = np.array(rounded1500,dtype='int64')\n",
    "print('Confusion Matrix')\n",
    "print('================')\n",
    "CM = confusion_matrix(Y, y_pred1500)\n",
    "print('True negatives: ',CM[0,0])\n",
    "print('False negatives: ',CM[1,0])\n",
    "print('False positives: ',CM[0,1])\n",
    "print('True positives: ',CM[1,1])"
   ]
  },
  {
   "cell_type": "code",
   "execution_count": 19,
   "metadata": {},
   "outputs": [
    {
     "data": {
      "text/plain": [
       "108"
      ]
     },
     "execution_count": 19,
     "metadata": {},
     "output_type": "execute_result"
    }
   ],
   "source": [
    "Y_predict1500 = pd.DataFrame(Y_predict1500)\n",
    "Y_predict1500.columns = ['Predicted_Political_Party']\n",
    "\n",
    "Results1500 = pd.concat([Y_observed, Y_predict1500], axis = 1)\n",
    "sum(Results1500.Actual_Political_Party)                                   # Sanity check - expect 108 - there were originally 124 democrats with 232 records; therefore 108\n",
    "                                                                         # republicans.  Since republicans were assigned 1 and democrats 0, this total should be 108."
   ]
  },
  {
   "cell_type": "code",
   "execution_count": 20,
   "metadata": {},
   "outputs": [],
   "source": [
    "# Convert the 1 to Republican and the 0 to Democrat in the Actual_Political_Party column\n",
    "Results1500['Actual_Political_Party']=Results1500['Actual_Political_Party'].astype(str)\n",
    "Results1500['Actual_Political_Party'].replace('1', 'Republican', inplace=True)\n",
    "Results1500['Actual_Political_Party'].replace('0', 'Democrat', inplace=True)\n",
    "#Results1500"
   ]
  },
  {
   "cell_type": "code",
   "execution_count": 21,
   "metadata": {},
   "outputs": [
    {
     "data": {
      "text/plain": [
       "Text(0.5, 1.0, 'Actual vs Predicted Party in Congress with an adam Learning Rate of .0001')"
      ]
     },
     "execution_count": 21,
     "metadata": {},
     "output_type": "execute_result"
    },
    {
     "data": {
      "image/png": "[encoded data removed]",
      "text/plain": [
       "<Figure size 432x288 with 1 Axes>"
      ]
     },
     "metadata": {
      "needs_background": "light"
     },
     "output_type": "display_data"
    }
   ],
   "source": [
    "# Generate a boxplot to show the distribution of the predicted values vs the actual observed values, and also show the predictions with jitter \n",
    "ax = sns.boxplot(x = 'Actual_Political_Party', y = 'Predicted_Political_Party', data = Results1500, order =['Democrat', 'Republican'])     # standard boxplot\n",
    "ax = sns.stripplot(x = 'Actual_Political_Party', y = 'Predicted_Political_Party', data = Results1500, order = ['Democrat', 'Republican'], color = 'red', jitter = 0.2, size = 2.5)   \n",
    "                                                                                                                 # Add jitter to boxplot\n",
    "\n",
    "# Add number of observations to the boxplot\n",
    "nobs = Results1500.groupby('Actual_Political_Party').size().values\n",
    "nobs = [str(x) for x in nobs.tolist()]\n",
    "nobs = [ 'Number of Representatives:  ' + i for i in nobs]\n",
    "\n",
    "\n",
    "pos = range(len(nobs))\n",
    "for tick, label in zip(pos, ax.get_xticklabels()):\n",
    "    plt.text(pos[tick], -.3, nobs[tick], horizontalalignment='center', size = 'medium', color = 'black')\n",
    "plt.title('Actual vs Predicted Party in Congress with an adam Learning Rate of .0001')\n"
   ]
  },
  {
   "cell_type": "markdown",
   "metadata": {},
   "source": [
    "# At the slower learning rate, the model takes longer to learn.  After 150 epochs, there are 16 people assigned to the wrong party - 8 Democrats and 8 Republicans.  This is evident from the boxplot and the confusion matrix."
   ]
  },
  {
   "cell_type": "code",
   "execution_count": 22,
   "metadata": {},
   "outputs": [],
   "source": [
    "accuracy1500 = model_epochdata1500.history['acc']    #  Assigns the accuracy numbers to a list\n",
    "loss1500 = model_epochdata1500.history['loss']       #  Assigns the loss numbers to a list"
   ]
  },
  {
   "cell_type": "code",
   "execution_count": 23,
   "metadata": {},
   "outputs": [
    {
     "data": {
      "image/png": "[encoded data removed]",
      "text/plain": [
       "<Figure size 432x288 with 1 Axes>"
      ]
     },
     "metadata": {
      "needs_background": "light"
     },
     "output_type": "display_data"
    }
   ],
   "source": [
    "# Plot accuracy and loss vs epoch\n",
    "\n",
    "plt.plot(loss1500,label='Loss')\n",
    "plt.plot(accuracy1500, label='Accuracy')\n",
    "plt.xlabel('Epoch')\n",
    "plt.ylabel('Convergence')\n",
    "plt.legend(loc = 'best')\n",
    "plt.title(\"Model Accuracy and Loss Convergence vs Model Epochs Run for a .0001 Learning Rate adam Model\")\n",
    "plt.show()"
   ]
  },
  {
   "cell_type": "markdown",
   "metadata": {},
   "source": [
    "# Re-run the model with .01 learning rate."
   ]
  },
  {
   "cell_type": "code",
   "execution_count": 24,
   "metadata": {},
   "outputs": [
    {
     "name": "stdout",
     "output_type": "stream",
     "text": [
      "232/232 [==============================] - 0s 612us/step\n",
      "\n",
      "acc: 100.00%\n",
      "Confusion Matrix\n",
      "================\n",
      "True negatives:  124\n",
      "False negatives:  0\n",
      "False positives:  0\n",
      "True positives:  108\n"
     ]
    }
   ],
   "source": [
    "model = Sequential()        # Builds a model layer by layer.  Each layer has the weights corresponding to the layer it connects forward to\n",
    "model.add(Dense(20, input_dim = 16, activation = 'relu')) # Connects densely (all nodes connect to every node in the next layer) 16 inputs \n",
    "                                                         # to next layer of 12 neurons; uses ReLU activation\n",
    "model.add(Dense(12, activation = 'relu' ))                # Create next level of neural network with 8 neurons-no input layer, just prior \n",
    "                                                         # layer; uses ReLU activation\n",
    "model.add(Dense(8, activation = 'relu'))                 # Create next level of neural network with 4 neurons-no input layer, just prior \n",
    "                                                         # layer; uses ReLU activation\n",
    "model.add(Dense(1, activation = 'sigmoid'))    # Create last level of neural network with 1 neuron-no input layer; uses Sigmoid activation\n",
    "\n",
    "# Compile model\n",
    "adam = optimizers.Adam(lr=.01)                               # Assign the optimizer algorithm to a variable\n",
    "model.compile(loss = 'binary_crossentropy', optimizer = adam, metrics = ['accuracy'])  # Compiles the model using the parameters speccified\n",
    "                                                                                         # Loss is the loss function to be used; \n",
    "                                                                                         # Optimizer determines the learning rate# Train the model over 150 epochs \n",
    "training_iteration = 150\n",
    "\n",
    "# Fit the model\n",
    "model_epochdata15 = model.fit(X, Y, epochs = training_iteration, verbose = 0)  # Generate the model with X as input and Y as the result; \n",
    "                                                        # model will run through \"training_iteration\" number of iterations \n",
    "                                                        # to improve the model; assigning the results to a variable will create \n",
    "                                                        # an object with the history of the iterations, \n",
    "                                                        # setting verbose to 0 will suppress the output from displaying.\n",
    "\n",
    "# Evaluate the model\n",
    "scores15 = model.evaluate(X, Y)               # assigns the final loss and final accuracy of the model to a list  \n",
    "\n",
    "Y_predict15 = model.predict(X)                # assigns the predicted Y for each observation of X\n",
    "\n",
    "print(\"\\n%s: %.2f%%\" % (model.metrics_names[1], scores15[1]*100))\n",
    "\n",
    "rounded15 = [round(i[0]) for i in Y_predict15]\n",
    "y_pred15 = np.array(rounded15,dtype='int64')\n",
    "print('Confusion Matrix')\n",
    "print('================')\n",
    "CM = confusion_matrix(Y, y_pred15)\n",
    "print('True negatives: ',CM[0,0])\n",
    "print('False negatives: ',CM[1,0])\n",
    "print('False positives: ',CM[0,1])\n",
    "print('True positives: ',CM[1,1])"
   ]
  },
  {
   "cell_type": "code",
   "execution_count": 25,
   "metadata": {},
   "outputs": [
    {
     "data": {
      "text/plain": [
       "108"
      ]
     },
     "execution_count": 25,
     "metadata": {},
     "output_type": "execute_result"
    }
   ],
   "source": [
    "Y_predict15 = pd.DataFrame(Y_predict15)\n",
    "Y_predict15.columns = ['Predicted_Political_Party']\n",
    "\n",
    "Results15 = pd.concat([Y_observed, Y_predict15], axis = 1)\n",
    "sum(Results15.Actual_Political_Party)                                   # Sanity check - expect 108 - there were originally 124 democrats with 232 records; therefore 108\n",
    "                                                                         # republicans.  Since republicans were assigned 1 and democrats 0, this total should be 108."
   ]
  },
  {
   "cell_type": "code",
   "execution_count": 26,
   "metadata": {},
   "outputs": [],
   "source": [
    "# Convert the 1 to Republican and the 0 to Democrat in the Actual_Political_Party column\n",
    "Results15['Actual_Political_Party']=Results15['Actual_Political_Party'].astype(str)\n",
    "Results15['Actual_Political_Party'].replace('1', 'Republican', inplace=True)\n",
    "Results15['Actual_Political_Party'].replace('0', 'Democrat', inplace=True)\n",
    "#Results15"
   ]
  },
  {
   "cell_type": "code",
   "execution_count": 27,
   "metadata": {},
   "outputs": [
    {
     "data": {
      "text/plain": [
       "Text(0.5, 1.0, 'Actual vs Predicted Party in Congress with an adam Learning Rate of .01')"
      ]
     },
     "execution_count": 27,
     "metadata": {},
     "output_type": "execute_result"
    },
    {
     "data": {
      "image/png": "[encoded data removed]",
      "text/plain": [
       "<Figure size 432x288 with 1 Axes>"
      ]
     },
     "metadata": {
      "needs_background": "light"
     },
     "output_type": "display_data"
    }
   ],
   "source": [
    "# Generate a boxplot to show the distribution of the predicted values vs the actual observed values, and also show the predictions with jitter \n",
    "ax = sns.boxplot(x = 'Actual_Political_Party', y = 'Predicted_Political_Party', data = Results15, order =['Democrat', 'Republican'])     # standard boxplot\n",
    "ax = sns.stripplot(x = 'Actual_Political_Party', y = 'Predicted_Political_Party', data = Results15, order = ['Democrat', 'Republican'], color = 'red', jitter = 0.2, size = 2.5)   \n",
    "                                                                                                                 # Add jitter to boxplot\n",
    "\n",
    "# Add number of observations to the boxplot\n",
    "nobs = Results15.groupby('Actual_Political_Party').size().values\n",
    "nobs = [str(x) for x in nobs.tolist()]\n",
    "nobs = [ 'Number of Representatives:  ' + i for i in nobs]\n",
    "\n",
    "\n",
    "pos = range(len(nobs))\n",
    "for tick, label in zip(pos, ax.get_xticklabels()):\n",
    "    plt.text(pos[tick], -.3, nobs[tick], horizontalalignment='center', size = 'medium', color = 'black')\n",
    "plt.title('Actual vs Predicted Party in Congress with an adam Learning Rate of .01')\n"
   ]
  },
  {
   "cell_type": "markdown",
   "metadata": {},
   "source": [
    "# The model using the .01 learning rate learned quickly and correctly classified each person with 100% accuracy according to the boxplot.  Let's see what the statistics say."
   ]
  },
  {
   "cell_type": "code",
   "execution_count": 28,
   "metadata": {},
   "outputs": [],
   "source": [
    "accuracy15 = model_epochdata15.history['acc']    #  Assigns the accuracy numbers to a list\n",
    "loss15 = model_epochdata15.history['loss']       #  Assigns the loss numbers to a list"
   ]
  },
  {
   "cell_type": "code",
   "execution_count": 29,
   "metadata": {},
   "outputs": [
    {
     "data": {
      "image/png": "[encoded data removed]",
      "text/plain": [
       "<Figure size 432x288 with 1 Axes>"
      ]
     },
     "metadata": {
      "needs_background": "light"
     },
     "output_type": "display_data"
    }
   ],
   "source": [
    "# Plot accuracy and loss vs epoch\n",
    "\n",
    "plt.plot(loss15,label='Loss')\n",
    "plt.plot(accuracy15, label='Accuracy')\n",
    "plt.xlabel('Epoch')\n",
    "plt.ylabel('Convergence')\n",
    "plt.legend(loc = 'best')\n",
    "plt.title(\"Model Accuracy and Loss Convergence vs Model Epochs Run for a .01 Learning Rate adam Model\")\n",
    "plt.show()"
   ]
  },
  {
   "cell_type": "markdown",
   "metadata": {},
   "source": [
    "# Accuracy plot shows 100% accuracy as well.\n",
    "\n",
    "# Plot the loss in one plot and the accuracy in another for all three learning rates."
   ]
  },
  {
   "cell_type": "code",
   "execution_count": 30,
   "metadata": {},
   "outputs": [
    {
     "data": {
      "image/png": "[encoded data removed]",
      "text/plain": [
       "<Figure size 432x288 with 2 Axes>"
      ]
     },
     "metadata": {
      "needs_background": "light"
     },
     "output_type": "display_data"
    }
   ],
   "source": [
    "plt.subplot(2,1,1)\n",
    "plt.plot(loss15, label = '.01', color = 'green')\n",
    "plt.plot(loss150,label='.001', color = 'blue')\n",
    "plt.plot(loss1500, label = '.0001', color = 'red')\n",
    "plt.xlabel('Epoch')\n",
    "plt.ylabel('Convergence')\n",
    "plt.legend(loc = 'best')\n",
    "plt.title(\"Model Loss vs Model Epochs Run with Different Learning Rates for adam Optimizer\")\n",
    "\n",
    "plt.subplot(2,1,2)\n",
    "plt.plot(accuracy15, label = '.01', color = 'green')\n",
    "plt.plot(accuracy150, label='.001', color = 'blue')\n",
    "plt.plot(accuracy1500, label = '.0001', color = 'red')\n",
    "plt.xlabel('Epoch')\n",
    "plt.ylabel('Convergence')\n",
    "plt.legend(loc = 'best')\n",
    "plt.title(\"Model Accuracy vs Model Epochs Run with Different Learning Rates for adam Optimizer\")\n",
    "plt.tight_layout()\n",
    "plt.show()"
   ]
  },
  {
   "cell_type": "markdown",
   "metadata": {},
   "source": [
    "# In the model created, as the learning rate increases, the loss decreases quicker; but it does level off at a point.  Also as the learning rate increases, the accuracy increases faster; but it does converge on 100% at a point."
   ]
  },
  {
   "cell_type": "code",
   "execution_count": null,
   "metadata": {},
   "outputs": [],
   "source": []
  }
 ],
 "metadata": {
  "kernelspec": {
   "display_name": "Python 3.6 (tensorflow)",
   "language": "python",
   "name": "tensorflow"
  },
  "language_info": {
   "codemirror_mode": {
    "name": "ipython",
    "version": 3
   },
   "file_extension": ".py",
   "mimetype": "text/x-python",
   "name": "python",
   "nbconvert_exporter": "python",
   "pygments_lexer": "ipython3",
   "version": "3.6.8"
  }
 },
 "nbformat": 4,
 "nbformat_minor": 2
}
